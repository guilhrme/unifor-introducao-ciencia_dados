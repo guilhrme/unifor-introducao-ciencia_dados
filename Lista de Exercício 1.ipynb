{
  "nbformat": 4,
  "nbformat_minor": 0,
  "metadata": {
    "colab": {
      "name": "Lista de Exercício 1.ipynb",
      "provenance": [],
      "collapsed_sections": [],
      "include_colab_link": true
    },
    "kernelspec": {
      "name": "python3",
      "display_name": "Python 3"
    },
    "language_info": {
      "name": "python"
    }
  },
  "cells": [
    {
      "cell_type": "markdown",
      "metadata": {
        "id": "view-in-github",
        "colab_type": "text"
      },
      "source": [
        "<a href=\"https://colab.research.google.com/github/guilhrme/unifor-introducao-ciencia_dados/blob/main/Lista%20de%20Exerc%C3%ADcio%201.ipynb\" target=\"_parent\"><img src=\"https://colab.research.google.com/assets/colab-badge.svg\" alt=\"Open In Colab\"/></a>"
      ]
    },
    {
      "cell_type": "markdown",
      "source": [
        "# **Universidade de Fortaleza - Mestrado em Informática Aplicada**\n",
        "##Disciplina de Introdução à Ciência de Dados\n",
        "###Aluno: Antonio Guilherme Cunha Santos\n"
      ],
      "metadata": {
        "id": "1b3I-oAcw0Yb"
      }
    },
    {
      "cell_type": "markdown",
      "source": [
        "# Lista de Exercícios \n",
        "\n",
        "Observações:\n",
        "\n",
        "1. Para cada questão, crie novas células para efetuar seus códigos. \n",
        "\n",
        "2. Nomear variáveis de acordo com o contexto da questão. \n",
        "\n",
        "3. Caso necessário, utilize novas caixas de textos para deixar comentários. \n",
        "\n",
        "Prof. Jorge Luiz \n",
        "\n",
        "jorgearaujo@unifor.br"
      ],
      "metadata": {
        "id": "R2H1Ms3Km9fT"
      }
    },
    {
      "cell_type": "markdown",
      "source": [
        "### 1. Escreva um programa que receba dois números e mostre os resultados de sua soma, subtração, multiplicação e divisão."
      ],
      "metadata": {
        "id": "H6puTrbloGIu"
      }
    },
    {
      "cell_type": "code",
      "source": [
        "# Método que recebe dois números e realiza operações aritméticas sobre eles.\n",
        "# Não implementei tratamento de exceções avançadas\n",
        "def efetuarOperacoes(a, b):\n",
        "  print(\"Soma: :\", a+b)\n",
        "  print(\"Subtração: :\", a-b)\n",
        "  print(\"Multiplicação: :\", a*b)\n",
        "  if b == 0:\n",
        "    print(\"O divisor não pode ser zero!\")\n",
        "  else:\n",
        "    print(\"Divisão: :\", a/b)\n",
        "\n",
        "print('Insira um número \"a\":')\n",
        "a = input()\n",
        "print('Insira um número \"b\":')\n",
        "b = input()\n",
        "\n",
        "#Conversão dos números para float evitando que os valores de entrada sejam processados como texto\n",
        "efetuarOperacoes(float(a), float(b)) "
      ],
      "metadata": {
        "id": "4PKOX-VOoQNM",
        "colab": {
          "base_uri": "https://localhost:8080/"
        },
        "outputId": "037998d2-9456-4fd3-a2f3-bfd96e0c280b"
      },
      "execution_count": 1,
      "outputs": [
        {
          "output_type": "stream",
          "name": "stdout",
          "text": [
            "Insira o número \"a\":\n",
            "1\n",
            "Insira o número \"b\":\n",
            "2\n",
            "Soma: : 3\n",
            "Subtração: : -1\n",
            "Multiplicação: : 2\n",
            "Divisão: : 0.5\n"
          ]
        }
      ]
    },
    {
      "cell_type": "markdown",
      "source": [
        "## 2. Escreva um programa que receba a altura e o peso de uma pessoa, calcule e mostre o IMC dela. O IMC é dado por:\n",
        "\n",
        "$\\frac{peso}{altura*altura}$"
      ],
      "metadata": {
        "id": "GSi_Bo-2oRIS"
      }
    },
    {
      "cell_type": "code",
      "source": [
        "# Método que recebe dois números, peso e altura, e realiza o cálculo do IMC.\n",
        "# O cálculo correto de IMC é peso / (altura^2). Realizei o ajuste no fórmula acima\n",
        "def calcularIMC(a, b):\n",
        "  if b == 0:\n",
        "    print(\"O divisor não pode ser zero!\")\n",
        "  else:\n",
        "    imc = a / (b**2) # Em b**n > (dois astéricos significam 'potência')\n",
        "    print(\"O IMC é: \", imc)\n",
        "  \n",
        "    if imc < 16:\n",
        "      print(\"Isto implica em um Subpeso severo.\")\n",
        "    elif imc < 20:\n",
        "      print(\"Isto implica em um Subpeso.\")\n",
        "    elif imc < 25:\n",
        "      print(\"Isto implica em um IMC Normal.\")\n",
        "    elif imc < 40:\n",
        "      print(\"Isto implica em Obesidade.\")\n",
        "    else:\n",
        "      print(\"Isto implica em Obesidade mórbida.\")\n",
        "\n",
        "print('Insira um peso em kg (apenas números):')\n",
        "a = input()\n",
        "print('Insira uma altura em metros (apenas números):')\n",
        "b = input()\n",
        "\n",
        "#Conversão dos números para float evitando que os valores de entrada sejam processados como texto\n",
        "calcularIMC(float(a), float(b))"
      ],
      "metadata": {
        "id": "mV4GLw7yos-t",
        "colab": {
          "base_uri": "https://localhost:8080/"
        },
        "outputId": "18d94465-1661-4c68-a25c-c68eb01423b1"
      },
      "execution_count": 6,
      "outputs": [
        {
          "output_type": "stream",
          "name": "stdout",
          "text": [
            "Insira um peso em kg (apenas números):\n",
            "83\n",
            "Insira uma altura em metros (apenas números):\n",
            "1.73\n",
            "O IMC é:  27.732299776136855\n",
            "Isto implica em Obeso\n"
          ]
        }
      ]
    },
    {
      "cell_type": "markdown",
      "source": [
        "## 3. Faça um programa que receba o ano de nascimento de uma pessoa e o ano atual, calcule e mostre:\n",
        "\n",
        "a. A idade dessa pessoa\n",
        "\n",
        "b. Quantos anos ela terá em 2050"
      ],
      "metadata": {
        "id": "42u1KaW2osSW"
      }
    },
    {
      "cell_type": "code",
      "source": [
        "# Método que recebe a idade de uma pessoa e o ano atual, e retorna exibe sua idade e quantos anos terá em 2050.\n",
        "def calcularIdade(anonascimento,anoatual):\n",
        "  print(\"A idade é de\", anoatual-anonascimento,\"anos.\")\n",
        "  print(\"Em\",anoalvo,\"você terá\",anoalvo-anonascimento,\"anos.\")\n",
        "\n",
        "anoalvo = 2050 # O ano que você quer saber com qual idade estará\n",
        "print(\"Informe o seu ano de nascimento: \")\n",
        "anonascimento = input()\n",
        "print(\"Informe o ano atual: \")\n",
        "anoatual = input()\n",
        "\n",
        "calcularIdade(int(anonascimento), int(anoatual))"
      ],
      "metadata": {
        "colab": {
          "base_uri": "https://localhost:8080/"
        },
        "id": "QRIQQXAV8Qu6",
        "outputId": "436c0ef0-04d2-40c0-e201-e0207a72be30"
      },
      "execution_count": 19,
      "outputs": [
        {
          "output_type": "stream",
          "name": "stdout",
          "text": [
            "Informe o seu ano de nascimento: \n",
            "1985\n",
            "Informe o ano atual: \n",
            "2022\n",
            "A idade é de 37 anos.\n",
            "Em 2050 você terá 65 anos.\n"
          ]
        }
      ]
    },
    {
      "cell_type": "markdown",
      "source": [
        "## 3.1 Pequena variação do método acima, recebendo apenas a idade atual e calculando a idade futura."
      ],
      "metadata": {
        "id": "YXBPF9Wg8VL0"
      }
    },
    {
      "cell_type": "code",
      "source": [
        "# Importando o módulo de datas do python\n",
        "from datetime import date as dt\n",
        "\n",
        "# Método que recebe a idade de uma pessoa e um ano alvo, e retorna quantos anos ela terá.\n",
        "# Não implementei tratamento de exceções avançadas\n",
        "def calcularIdade(a,b):\n",
        "  anoatual = dt.today().year # today() é um metodo que retorna a data atual. year é um atributo que retorna o ano de uma data.\n",
        "  print(\"Em\", b, \"você terá\", a+b-anoatual, \"ano(s).\")\n",
        "\n",
        "anoalvo = 2050 # O ano que você quer saber com qual idade estará\n",
        "print(\"Informe sua idade em anos (apenas números): \")\n",
        "idadeatual = input()\n",
        "calcularIdade(int(idadeatual), anoalvo)"
      ],
      "metadata": {
        "id": "2IovFUaJpAC2",
        "colab": {
          "base_uri": "https://localhost:8080/"
        },
        "outputId": "c8b1d939-7dbd-4abe-ae37-0c78fd15e5fc"
      },
      "execution_count": 20,
      "outputs": [
        {
          "output_type": "stream",
          "name": "stdout",
          "text": [
            "Informe sua idade: \n",
            "36\n",
            "Em 2050 você terá 64 ano(s).\n"
          ]
        }
      ]
    },
    {
      "cell_type": "markdown",
      "source": [
        "## 4. Faça um programa que receba três notas, calcule e mostre a média aritmética.\n"
      ],
      "metadata": {
        "id": "mhI94U9oor6F"
      }
    },
    {
      "cell_type": "code",
      "source": [
        ""
      ],
      "metadata": {
        "id": "iqR68_t6pJJU"
      },
      "execution_count": null,
      "outputs": []
    },
    {
      "cell_type": "markdown",
      "source": [
        "## 5. Faça um programa que receba duas notas, calcule e mostre a média ponderada dessas notas, considerando peso 2 para a primeira e peso 3 para a segunda."
      ],
      "metadata": {
        "id": "nsM8o07OoRK8"
      }
    },
    {
      "cell_type": "code",
      "source": [
        ""
      ],
      "metadata": {
        "id": "X6EU_FgcpVJk"
      },
      "execution_count": null,
      "outputs": []
    },
    {
      "cell_type": "markdown",
      "source": [
        "## 6. Faça um programa que receba três notas e seus respectivos pesos, calcule e mostre a média ponderada."
      ],
      "metadata": {
        "id": "LnJ4KYBbpZcg"
      }
    },
    {
      "cell_type": "code",
      "source": [
        ""
      ],
      "metadata": {
        "id": "pIU8ej7Spf8k"
      },
      "execution_count": null,
      "outputs": []
    },
    {
      "cell_type": "markdown",
      "source": [
        "## 7. Faça um programa que receba o salário de um funcionário, calcule e mostre o novo salário, sabendo-se que este sofreu um aumento de 25$\\%$"
      ],
      "metadata": {
        "id": "boZVdp09pkmx"
      }
    },
    {
      "cell_type": "code",
      "source": [
        ""
      ],
      "metadata": {
        "id": "gHyYnm2mpoQV"
      },
      "execution_count": null,
      "outputs": []
    },
    {
      "cell_type": "markdown",
      "source": [
        "## 8. Faça um programa que receba o salário base de um funcionário, calcule e mostre o salário a receber, sabendo-se que o funcionário tem gratificação de 5$\\%$ sobre o salário base e paga imposto de 7$\\%$ também sobre o salário base."
      ],
      "metadata": {
        "id": "__DNgUbCppyS"
      }
    },
    {
      "cell_type": "code",
      "source": [
        ""
      ],
      "metadata": {
        "id": "Z2aavILwp-Di"
      },
      "execution_count": null,
      "outputs": []
    },
    {
      "cell_type": "markdown",
      "source": [
        "## 9. Um funcionário recebe um salário fixo mais 4$\\%$ de comissão sobre as vendas. Faça um programa que receba o salário fixo do funcionário e o valor de suas vendas, calcule e mostre a comissão e seu salário final."
      ],
      "metadata": {
        "id": "8hOAV95Qp12q"
      }
    },
    {
      "cell_type": "code",
      "source": [
        ""
      ],
      "metadata": {
        "id": "GiNybUC8p0r9"
      },
      "execution_count": null,
      "outputs": []
    },
    {
      "cell_type": "markdown",
      "source": [
        "## 10. Faça um programa que receba o número de horas trabalhadas e o valor do salário mínimo, calcule e mostre o salário a receber, seguindo estas regras:\n",
        "\n",
        "a. A hora trabalhada vale a metade do salário mínimo.\n",
        "\n",
        "b. O salário bruto equivale ao número de horas trabalhadas multiplicado pelo valor da hora trabalhada. \n",
        "\n",
        "c. O imposto equivale a 3$\\%$ do salário bruto.\n",
        "\n",
        "d. O salário a receber equivale ao salário bruto menos o imposto."
      ],
      "metadata": {
        "id": "1ndWBFL2p-94"
      }
    },
    {
      "cell_type": "code",
      "source": [
        ""
      ],
      "metadata": {
        "id": "2AC3PeZnqbPe"
      },
      "execution_count": null,
      "outputs": []
    },
    {
      "cell_type": "markdown",
      "source": [
        "## 11. Faça um programa que receba o peso de uma pessoa, calcule e mostre:\n",
        "\n",
        "a. O novo peso, se a pessoa engordar 15$\\%$ sobre o peso digitado. \n",
        "\n",
        "b. O novo peso, se a pessoa emagrecer 20$\\%$ sobre o peso digitado\n"
      ],
      "metadata": {
        "id": "OYbGuluXxQgz"
      }
    },
    {
      "cell_type": "code",
      "source": [
        ""
      ],
      "metadata": {
        "id": "_pJ9osEmxhNC"
      },
      "execution_count": null,
      "outputs": []
    },
    {
      "cell_type": "markdown",
      "source": [
        " ## 12. Escreva um programa que receba uma temperatura em graus Celsius e mostre a temperatura na escala Fahrenheit."
      ],
      "metadata": {
        "id": "jCdVvhxkxiH3"
      }
    },
    {
      "cell_type": "code",
      "source": [
        ""
      ],
      "metadata": {
        "id": "gocHIzwKx_VW"
      },
      "execution_count": null,
      "outputs": []
    },
    {
      "cell_type": "markdown",
      "source": [
        "## 13. Um caixa eletrônico possui cédulas de 2, 5, 10, 20 e 50 reais. Escreva um programa que leia o valor a ser sacado e mostre a quantidade de cada cédula a ser utilizada de modo que o mínimo de notas seja retirado."
      ],
      "metadata": {
        "id": "Ty_acEZaxxBf"
      }
    },
    {
      "cell_type": "code",
      "source": [
        ""
      ],
      "metadata": {
        "id": "HnJkDytLxwO6"
      },
      "execution_count": null,
      "outputs": []
    }
  ]
}