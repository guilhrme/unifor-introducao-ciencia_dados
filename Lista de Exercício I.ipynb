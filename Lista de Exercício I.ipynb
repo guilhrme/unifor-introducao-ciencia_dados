{
  "nbformat": 4,
  "nbformat_minor": 0,
  "metadata": {
    "colab": {
      "name": "Lista de Exercício 1.ipynb",
      "provenance": [],
      "collapsed_sections": [],
      "include_colab_link": true
    },
    "kernelspec": {
      "name": "python3",
      "display_name": "Python 3"
    },
    "language_info": {
      "name": "python"
    }
  },
  "cells": [
    {
      "cell_type": "markdown",
      "metadata": {
        "id": "view-in-github",
        "colab_type": "text"
      },
      "source": [
        "<a href=\"https://colab.research.google.com/github/guilhrme/unifor-introducao-ciencia_dados/blob/main/Lista%20de%20Exerc%C3%ADcio%20I.ipynb\" target=\"_parent\"><img src=\"https://colab.research.google.com/assets/colab-badge.svg\" alt=\"Open In Colab\"/></a>"
      ]
    },
    {
      "cell_type": "markdown",
      "source": [
        "# **Universidade de Fortaleza - Mestrado em Informática Aplicada**\n",
        "##Disciplina de Introdução à Ciência de Dados\n",
        "###Aluno: Antonio Guilherme Cunha Santos\n"
      ],
      "metadata": {
        "id": "1b3I-oAcw0Yb"
      }
    },
    {
      "cell_type": "markdown",
      "source": [
        "# Lista de Exercícios \n",
        "\n",
        "Observações:\n",
        "\n",
        "1. Para cada questão, crie novas células para efetuar seus códigos. \n",
        "\n",
        "2. Nomear variáveis de acordo com o contexto da questão. \n",
        "\n",
        "3. Caso necessário, utilize novas caixas de textos para deixar comentários. \n",
        "\n",
        "Prof. Jorge Luiz \n",
        "\n",
        "jorgearaujo@unifor.br"
      ],
      "metadata": {
        "id": "R2H1Ms3Km9fT"
      }
    },
    {
      "cell_type": "markdown",
      "source": [
        "### 1. Escreva um programa que receba dois números e mostre os resultados de sua soma, subtração, multiplicação e divisão."
      ],
      "metadata": {
        "id": "H6puTrbloGIu"
      }
    },
    {
      "cell_type": "code",
      "source": [
        "# Método que recebe dois números e realiza operações aritméticas sobre eles.\n",
        "# Não implementei tratamento de exceções avançadas\n",
        "def efetuarOperacoes(a, b):\n",
        "  print(\"Soma: :\", a+b)\n",
        "  print(\"Subtração: :\", a-b)\n",
        "  print(\"Multiplicação: :\", a*b)\n",
        "  if b == 0:\n",
        "    print(\"O divisor não pode ser zero!\")\n",
        "  else:\n",
        "    print(\"Divisão: :\", a/b)\n",
        "\n",
        "print('Insira um número \"a\":')\n",
        "a = input()\n",
        "print('Insira um número \"b\":')\n",
        "b = input()\n",
        "\n",
        "efetuarOperacoes(float(a), float(b))"
      ],
      "metadata": {
        "id": "4PKOX-VOoQNM",
        "colab": {
          "base_uri": "https://localhost:8080/"
        },
        "outputId": "037998d2-9456-4fd3-a2f3-bfd96e0c280b"
      },
      "execution_count": 1,
      "outputs": [
        {
          "output_type": "stream",
          "name": "stdout",
          "text": [
            "Insira o número \"a\":\n",
            "1\n",
            "Insira o número \"b\":\n",
            "2\n",
            "Soma: : 3\n",
            "Subtração: : -1\n",
            "Multiplicação: : 2\n",
            "Divisão: : 0.5\n"
          ]
        }
      ]
    },
    {
      "cell_type": "markdown",
      "source": [
        "## 2. Escreva um programa que receba a altura e o peso de uma pessoa, calcule e mostre o IMC dela. O IMC é dado por:\n",
        "\n",
        "$\\frac{peso}{altura}$"
      ],
      "metadata": {
        "id": "GSi_Bo-2oRIS"
      }
    },
    {
      "cell_type": "code",
      "source": [
        "# Método que recebe dois números, peso e altura, e realiza o cálculo do IMC.\n",
        "# Não implementei tratamento de exceções avançadas\n",
        "def efetuarOperacoes(a, b):\n",
        "  print(\"Soma: :\", a+b)\n",
        "  print(\"Subtração: :\", a-b)\n",
        "  print(\"Multiplicação: :\", a*b)\n",
        "  if b == 0:\n",
        "    print(\"O divisor não pode ser zero!\")\n",
        "  else:\n",
        "    print(\"Divisão: :\", a/b)\n",
        "\n",
        "print('Insira um número \"a\":')\n",
        "a = input()\n",
        "print('Insira um número \"b\":')\n",
        "b = input()\n",
        "\n",
        "efetuarOperacoes(float(a), float(b))"
      ],
      "metadata": {
        "id": "mV4GLw7yos-t"
      },
      "execution_count": null,
      "outputs": []
    },
    {
      "cell_type": "markdown",
      "source": [
        "## 3. Faça um programa que receba o ano de nascimento de uma pessoa e o ano atual, calcule e mostre:\n",
        "\n",
        "a. A idade dessa pessoa\n",
        "\n",
        "b. Quantos anos ela terá em 2050"
      ],
      "metadata": {
        "id": "42u1KaW2osSW"
      }
    },
    {
      "cell_type": "code",
      "source": [
        ""
      ],
      "metadata": {
        "id": "2IovFUaJpAC2"
      },
      "execution_count": null,
      "outputs": []
    },
    {
      "cell_type": "markdown",
      "source": [
        "## 4. Faça um programa que receba três notas, calcule e mostre a média aritmética.\n"
      ],
      "metadata": {
        "id": "mhI94U9oor6F"
      }
    },
    {
      "cell_type": "code",
      "source": [
        ""
      ],
      "metadata": {
        "id": "iqR68_t6pJJU"
      },
      "execution_count": null,
      "outputs": []
    },
    {
      "cell_type": "markdown",
      "source": [
        "## 5. Faça um programa que receba duas notas, calcule e mostre a média ponderada dessas notas, considerando peso 2 para a primeira e peso 3 para a segunda."
      ],
      "metadata": {
        "id": "nsM8o07OoRK8"
      }
    },
    {
      "cell_type": "code",
      "source": [
        ""
      ],
      "metadata": {
        "id": "X6EU_FgcpVJk"
      },
      "execution_count": null,
      "outputs": []
    },
    {
      "cell_type": "markdown",
      "source": [
        "## 6. Faça um programa que receba três notas e seus respectivos pesos, calcule e mostre a média ponderada."
      ],
      "metadata": {
        "id": "LnJ4KYBbpZcg"
      }
    },
    {
      "cell_type": "code",
      "source": [
        ""
      ],
      "metadata": {
        "id": "pIU8ej7Spf8k"
      },
      "execution_count": null,
      "outputs": []
    },
    {
      "cell_type": "markdown",
      "source": [
        "## 7. Faça um programa que receba o salário de um funcionário, calcule e mostre o novo salário, sabendo-se que este sofreu um aumento de 25$\\%$"
      ],
      "metadata": {
        "id": "boZVdp09pkmx"
      }
    },
    {
      "cell_type": "code",
      "source": [
        ""
      ],
      "metadata": {
        "id": "gHyYnm2mpoQV"
      },
      "execution_count": null,
      "outputs": []
    },
    {
      "cell_type": "markdown",
      "source": [
        "## 8. Faça um programa que receba o salário base de um funcionário, calcule e mostre o salário a receber, sabendo-se que o funcionário tem gratificação de 5$\\%$ sobre o salário base e paga imposto de 7$\\%$ também sobre o salário base."
      ],
      "metadata": {
        "id": "__DNgUbCppyS"
      }
    },
    {
      "cell_type": "code",
      "source": [
        ""
      ],
      "metadata": {
        "id": "Z2aavILwp-Di"
      },
      "execution_count": null,
      "outputs": []
    },
    {
      "cell_type": "markdown",
      "source": [
        "## 9. Um funcionário recebe um salário fixo mais 4$\\%$ de comissão sobre as vendas. Faça um programa que receba o salário fixo do funcionário e o valor de suas vendas, calcule e mostre a comissão e seu salário final."
      ],
      "metadata": {
        "id": "8hOAV95Qp12q"
      }
    },
    {
      "cell_type": "code",
      "source": [
        ""
      ],
      "metadata": {
        "id": "GiNybUC8p0r9"
      },
      "execution_count": null,
      "outputs": []
    },
    {
      "cell_type": "markdown",
      "source": [
        "## 10. Faça um programa que receba o número de horas trabalhadas e o valor do salário mínimo, calcule e mostre o salário a receber, seguindo estas regras:\n",
        "\n",
        "a. A hora trabalhada vale a metade do salário mínimo.\n",
        "\n",
        "b. O salário bruto equivale ao número de horas trabalhadas multiplicado pelo valor da hora trabalhada. \n",
        "\n",
        "c. O imposto equivale a 3$\\%$ do salário bruto.\n",
        "\n",
        "d. O salário a receber equivale ao salário bruto menos o imposto."
      ],
      "metadata": {
        "id": "1ndWBFL2p-94"
      }
    },
    {
      "cell_type": "code",
      "source": [
        ""
      ],
      "metadata": {
        "id": "2AC3PeZnqbPe"
      },
      "execution_count": null,
      "outputs": []
    },
    {
      "cell_type": "markdown",
      "source": [
        "## 11. Faça um programa que receba o peso de uma pessoa, calcule e mostre:\n",
        "\n",
        "a. O novo peso, se a pessoa engordar 15$\\%$ sobre o peso digitado. \n",
        "\n",
        "b. O novo peso, se a pessoa emagrecer 20$\\%$ sobre o peso digitado\n"
      ],
      "metadata": {
        "id": "OYbGuluXxQgz"
      }
    },
    {
      "cell_type": "code",
      "source": [
        ""
      ],
      "metadata": {
        "id": "_pJ9osEmxhNC"
      },
      "execution_count": null,
      "outputs": []
    },
    {
      "cell_type": "markdown",
      "source": [
        " ## 12. Escreva um programa que receba uma temperatura em graus Celsius e mostre a temperatura na escala Fahrenheit."
      ],
      "metadata": {
        "id": "jCdVvhxkxiH3"
      }
    },
    {
      "cell_type": "code",
      "source": [
        ""
      ],
      "metadata": {
        "id": "gocHIzwKx_VW"
      },
      "execution_count": null,
      "outputs": []
    },
    {
      "cell_type": "markdown",
      "source": [
        "## 13. Um caixa eletrônico possui cédulas de 2, 5, 10, 20 e 50 reais. Escreva um programa que leia o valor a ser sacado e mostre a quantidade de cada cédula a ser utilizada de modo que o mínimo de notas seja retirado."
      ],
      "metadata": {
        "id": "Ty_acEZaxxBf"
      }
    },
    {
      "cell_type": "code",
      "source": [
        ""
      ],
      "metadata": {
        "id": "HnJkDytLxwO6"
      },
      "execution_count": null,
      "outputs": []
    }
  ]
}